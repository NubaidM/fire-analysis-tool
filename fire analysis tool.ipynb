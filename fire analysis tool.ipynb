{
 "cells": [
  {
   "cell_type": "code",
   "execution_count": 1,
   "id": "2c809601-992b-40ad-a09d-57e4627b9de2",
   "metadata": {},
   "outputs": [],
   "source": [
    "import pandas as pd\n",
    "import matplotlib.pyplot as plt\n",
    "import seaborn as sns"
   ]
  },
  {
   "cell_type": "code",
   "execution_count": 6,
   "id": "340d9b76-8c4e-4913-a2c5-d811c33172f5",
   "metadata": {},
   "outputs": [
    {
     "name": "stdout",
     "output_type": "stream",
     "text": [
      "    latitude  longitude        date  temperature      region\n",
      "0    34.0522  -118.2437  2023-06-15         30.2  California\n",
      "1    34.0522  -118.2437  2023-06-16         31.0  California\n",
      "2    36.7783  -119.4179  2023-07-01         32.5  California\n",
      "3    40.7128   -74.0060  2023-06-15         29.0    New York\n",
      "4    40.7128   -74.0060  2023-07-01         28.4    New York\n",
      "5    45.4215   -75.6972  2023-06-15         22.1     Ontario\n",
      "6    45.4215   -75.6972  2023-07-01         24.5     Ontario\n",
      "7   -33.8688   151.2093  2023-06-15         25.0      Sydney\n",
      "8   -33.8688   151.2093  2023-07-01         26.3      Sydney\n",
      "9    51.5074    -0.1278  2023-06-15         20.3      London\n",
      "10   51.5074    -0.1278  2023-07-01         22.0      London\n",
      "\n",
      "<class 'pandas.core.frame.DataFrame'>\n",
      "RangeIndex: 11 entries, 0 to 10\n",
      "Data columns (total 5 columns):\n",
      " #   Column       Non-Null Count  Dtype  \n",
      "---  ------       --------------  -----  \n",
      " 0   latitude     11 non-null     float64\n",
      " 1   longitude    11 non-null     float64\n",
      " 2   date         11 non-null     object \n",
      " 3   temperature  11 non-null     float64\n",
      " 4   region       11 non-null     object \n",
      "dtypes: float64(3), object(2)\n",
      "memory usage: 572.0+ bytes\n",
      "None\n",
      "\n",
      "        latitude   longitude  temperature\n",
      "count  11.000000   11.000000    11.000000\n",
      "mean   28.402591  -32.104427    26.481818\n",
      "std    31.367936   99.513109     4.051375\n",
      "min   -33.868800 -119.417900    20.300000\n",
      "25%    34.052200  -96.970450    23.300000\n",
      "50%    40.712800  -74.006000    26.300000\n",
      "75%    45.421500   -0.127800    29.600000\n",
      "max    51.507400  151.209300    32.500000\n"
     ]
    }
   ],
   "source": [
    "data = {\n",
    "\n",
    "'latitude': [34.0522, 34.0522, 36.7783, 40.7128, 40.7128, 45.4215, 45.4215, -33.8688, -33.8688, 51.5074, 51.5074],\n",
    "\n",
    "'longitude': [-118.2437, -118.2437, -119.4179, -74.0060, -74.0060, -75.6972, -75.6972, 151.2093, 151.2093, -0.1278, -0.1278],\n",
    "\n",
    "'date': ['2023-06-15', '2023-06-16', '2023-07-01', '2023-06-15', '2023-07-01', '2023-06-15', '2023-07-01', '2023-06-15', '2023-07-01', '2023-06-15', '2023-07-01'],\n",
    "\n",
    "'temperature': [30.2, 31.0, 32.5, 29.0, 28.4, 22.1, 24.5, 25.0, 26.3, 20.3, 22.0],\n",
    "\n",
    "'region': ['California', 'California', 'California', 'New York', 'New York', 'Ontario', 'Ontario', 'Sydney', 'Sydney', 'London', 'London']}\n",
    "\n",
    "df=pd.DataFrame(data)\n",
    "\n",
    "print(df)\n",
    "print()\n",
    "print(df.info())\n",
    "print()\n",
    "print(df.describe())"
   ]
  },
  {
   "cell_type": "code",
   "execution_count": 7,
   "id": "88916fde-655a-4adc-9746-69a239fd6005",
   "metadata": {},
   "outputs": [],
   "source": [
    "df[\"date\"]= pd.to_datetime(df[\"date\"])"
   ]
  },
  {
   "cell_type": "code",
   "execution_count": 15,
   "id": "b616cdb5-e176-48fa-8739-7627fb6d33e4",
   "metadata": {},
   "outputs": [
    {
     "name": "stdin",
     "output_type": "stream",
     "text": [
      "Region to analyze fires in:  California\n"
     ]
    },
    {
     "name": "stdout",
     "output_type": "stream",
     "text": [
      "Found    latitude  longitude       date  temperature      region\n",
      "0   34.0522  -118.2437 2023-06-15         30.2  California\n",
      "1   34.0522  -118.2437 2023-06-16         31.0  California\n",
      "2   36.7783  -119.4179 2023-07-01         32.5  California records for California\n"
     ]
    },
    {
     "data": {
      "image/png": "[encoded data removed]",
      "text/plain": [
       "<Figure size 1000x600 with 1 Axes>"
      ]
     },
     "metadata": {},
     "output_type": "display_data"
    }
   ],
   "source": [
    "def search_by_region(region):\n",
    "    region_data=df[df[\"region\"].str.contains(region, case=False, na=False)]\n",
    "    return region_data\n",
    "\n",
    "def fire_trend_plot(region_data):\n",
    "    fires_per_day = region_data.groupby(\"date\").size()\n",
    "    plt.figure(figsize=(10,6))\n",
    "    fires_per_day.plot()\n",
    "    plt.title(\"Number of fires that occur per day\")\n",
    "    plt.xlabel(\"Date\")\n",
    "    plt.ylabel(\"Amount of fires\")\n",
    "    plt.grid(True)\n",
    "    plt.show()\n",
    "\n",
    "def plot_temp_trend(region_data):\n",
    "    plt.figure(figsize=(10,6))\n",
    "    plt.plot(region_data[\"date\"], region_data[\"Temperature\"], label=\"Temperature\")\n",
    "    plt.title(\"Temperature trends during fires\")\n",
    "    plt.xlabel(\"Date\")\n",
    "    plt.ylabel(\"Temperature (C)\")\n",
    "    plt.grid(True)\n",
    "    plt.legend()\n",
    "    plt.show()\n",
    "\n",
    "def fire_analysis_tool():\n",
    "    region=input(\"Region to analyze fires in: \")\n",
    "    region_data = search_by_region(region)\n",
    "\n",
    "    if region_data.empty:\n",
    "        print(\"No fires found for\", region)\n",
    "    else:\n",
    "        print(f\"Found {region_data} records for {region}\")\n",
    "\n",
    "    fire_trend_plot(region_data)\n",
    "\n",
    "fire_analysis_tool()"
   ]
  },
  {
   "cell_type": "code",
   "execution_count": null,
   "id": "f503e99f-a3ea-4564-9520-a920341343d5",
   "metadata": {},
   "outputs": [],
   "source": []
  }
 ],
 "metadata": {
  "kernelspec": {
   "display_name": "Python 3 (ipykernel)",
   "language": "python",
   "name": "python3"
  },
  "language_info": {
   "codemirror_mode": {
    "name": "ipython",
    "version": 3
   },
   "file_extension": ".py",
   "mimetype": "text/x-python",
   "name": "python",
   "nbconvert_exporter": "python",
   "pygments_lexer": "ipython3",
   "version": "3.12.7"
  }
 },
 "nbformat": 4,
 "nbformat_minor": 5
}
